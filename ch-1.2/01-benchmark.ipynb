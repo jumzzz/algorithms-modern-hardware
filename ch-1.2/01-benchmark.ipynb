{
 "cells": [
  {
   "cell_type": "code",
   "execution_count": 4,
   "metadata": {},
   "outputs": [
    {
     "name": "stdout",
     "output_type": "stream",
     "text": [
      "CPU times: user 1e+03 ns, sys: 1 µs, total: 2 µs\n",
      "Wall time: 5.72 µs\n",
      "114.02640581130981\n"
     ]
    }
   ],
   "source": [
    "%time\n",
    "import time\n",
    "import random\n",
    "\n",
    "n = 1024\n",
    "\n",
    "a = [[random.random()\n",
    "      for row in range(n)]\n",
    "      for col in range(n)]\n",
    "\n",
    "b = [[random.random()\n",
    "      for row in range(n)]\n",
    "      for col in range(n)]\n",
    "\n",
    "c = [[0\n",
    "      for row in range(n)]\n",
    "      for col in range(n)]\n",
    "\n",
    "start = time.time()\n",
    "\n",
    "for i in range(n):\n",
    "    for j in range(n):\n",
    "        for k in range(n):\n",
    "            c[i][j] += a[i][k] * b[k][j]\n",
    "\n",
    "duration = time.time() - start\n",
    "print(duration)"
   ]
  },
  {
   "cell_type": "code",
   "execution_count": null,
   "metadata": {},
   "outputs": [],
   "source": [
    "import time\n",
    "import numpy as np\n",
    "\n",
    "n = 1024\n",
    "\n",
    "a = np.random.rand(n, n)\n",
    "b = np.random.rand(n, n)\n",
    "\n",
    "start = time.time()\n",
    "\n",
    "c = np.dot(a, b)\n",
    "\n",
    "duration = time.time() - start\n",
    "print(duration)"
   ]
  }
 ],
 "metadata": {
  "kernelspec": {
   "display_name": "ml",
   "language": "python",
   "name": "python3"
  },
  "language_info": {
   "codemirror_mode": {
    "name": "ipython",
    "version": 3
   },
   "file_extension": ".py",
   "mimetype": "text/x-python",
   "name": "python",
   "nbconvert_exporter": "python",
   "pygments_lexer": "ipython3",
   "version": "3.11.7"
  }
 },
 "nbformat": 4,
 "nbformat_minor": 2
}
